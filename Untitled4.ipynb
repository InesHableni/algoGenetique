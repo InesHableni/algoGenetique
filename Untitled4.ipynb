{
  "nbformat": 4,
  "nbformat_minor": 0,
  "metadata": {
    "colab": {
      "provenance": []
    },
    "kernelspec": {
      "name": "python3",
      "display_name": "Python 3"
    },
    "language_info": {
      "name": "python"
    }
  },
  "cells": [
    {
      "cell_type": "markdown",
      "source": [
        "\n",
        "# **Résolution du problème** \n",
        "\n",
        "\n"
      ],
      "metadata": {
        "id": "siyvPnB1Rcvj"
      }
    },
    {
      "cell_type": "code",
      "execution_count": 16,
      "metadata": {
        "id": "VIaBmwPJFFpg"
      },
      "outputs": [],
      "source": [
        "#Genes des individus\n",
        "GENES = \"abcdefgijklmnopqrstuvwxyzABCDEFGHIJKLMNOPQRSTUVWXYZ1234567890\""
      ]
    },
    {
      "cell_type": "code",
      "source": [
        "#Les imports\n",
        "import random"
      ],
      "metadata": {
        "id": "RBpDYxyMFeCM"
      },
      "execution_count": 17,
      "outputs": []
    },
    {
      "cell_type": "code",
      "source": [
        "#Generation d'un gêne de façon aléatoire\n",
        "#Le gène est choisi parmis la liste de gènes définie précédemment\n",
        "def generationGene():\n",
        "    return random.choice(GENES)\n",
        "    "
      ],
      "metadata": {
        "id": "d8D86Zh1FgJn"
      },
      "execution_count": 18,
      "outputs": []
    },
    {
      "cell_type": "code",
      "source": [
        "generationGene()"
      ],
      "metadata": {
        "colab": {
          "base_uri": "https://localhost:8080/",
          "height": 36
        },
        "id": "-A03TT2FFixb",
        "outputId": "f55e1116-016f-4885-df46-ed6565957cb6"
      },
      "execution_count": 19,
      "outputs": [
        {
          "output_type": "execute_result",
          "data": {
            "text/plain": [
              "'Z'"
            ],
            "application/vnd.google.colaboratory.intrinsic+json": {
              "type": "string"
            }
          },
          "metadata": {},
          "execution_count": 19
        }
      ]
    },
    {
      "cell_type": "code",
      "source": [
        "#Generation d'un individu (Composé de gènes)\n",
        "#Le nombre de gène à générer est fonction de la taille du code secret\n",
        "def generationIndividu(codeSecret):\n",
        "    return [generationGene() for i in range(len(codeSecret))]"
      ],
      "metadata": {
        "id": "W3Y3ys5cFkws"
      },
      "execution_count": 20,
      "outputs": []
    },
    {
      "cell_type": "code",
      "source": [
        "generationIndividu(\"test\")"
      ],
      "metadata": {
        "colab": {
          "base_uri": "https://localhost:8080/"
        },
        "id": "9iJYODVVFoLR",
        "outputId": "a2b9c71d-1df3-4e57-90a3-bdc63bde1db1"
      },
      "execution_count": 21,
      "outputs": [
        {
          "output_type": "execute_result",
          "data": {
            "text/plain": [
              "['2', 'i', 'y', 'F']"
            ]
          },
          "metadata": {},
          "execution_count": 21
        }
      ]
    },
    {
      "cell_type": "code",
      "source": [
        "#Generation de la population (Composée d'individus)\n",
        "#Le nombre d'individus à générer est passé en paramètre\n",
        "def generationPopulation(nombreIndividus,codeSecret):\n",
        "    return [generationIndividu(codeSecret) for i in range(nombreIndividus)]"
      ],
      "metadata": {
        "id": "VBjAL5DUFqs2"
      },
      "execution_count": 22,
      "outputs": []
    },
    {
      "cell_type": "code",
      "source": [
        "population = generationPopulation(5,\"test\")\n",
        "\n",
        "#On affiche la population pour simple vérification\n",
        "i=0\n",
        "for individu in population:\n",
        "    print(\"I:\"+str(i)+\" \"+str(individu))\n",
        "    i = i+1"
      ],
      "metadata": {
        "colab": {
          "base_uri": "https://localhost:8080/"
        },
        "id": "XaWSoEy7FtDA",
        "outputId": "6dd07cc9-6a73-4426-f1c7-05cfd43ae471"
      },
      "execution_count": 23,
      "outputs": [
        {
          "output_type": "stream",
          "name": "stdout",
          "text": [
            "I:0 ['Z', 'd', 'a', 'B']\n",
            "I:1 ['N', 'q', 'w', 'X']\n",
            "I:2 ['8', 'F', 'O', 'X']\n",
            "I:3 ['V', '0', 'l', 'N']\n",
            "I:4 ['U', 'L', 'j', 'i']\n"
          ]
        }
      ]
    },
    {
      "cell_type": "code",
      "source": [
        "#Calcul de l'aptitude d'un individu\n",
        "#On ajoute 1 point d'aptitude par lettre présente et bien placée dans l'ensemble des gènes de l'individu \n",
        "#par rapport au code secret\n",
        "def calculAptitude(individu,codeSecret):\n",
        "    aptitude = 0\n",
        "    for gene, gene_attendu in zip(individu,codeSecret):\n",
        "        if gene == gene_attendu:\n",
        "            aptitude = aptitude +1\n",
        "    return aptitude"
      ],
      "metadata": {
        "id": "BatLd1t_FvOW"
      },
      "execution_count": 24,
      "outputs": []
    },
    {
      "cell_type": "code",
      "source": [
        "#Calcul de l'aptitude du premier individu\n",
        "#Combien de lettres sont elles bien placées ?\n",
        "print(population[0])\n",
        "calculAptitude(population[0],\"test\")"
      ],
      "metadata": {
        "colab": {
          "base_uri": "https://localhost:8080/"
        },
        "id": "eLgBAmZ3Fx_4",
        "outputId": "94600211-f195-4577-eaa9-f7e16737a079"
      },
      "execution_count": 25,
      "outputs": [
        {
          "output_type": "stream",
          "name": "stdout",
          "text": [
            "['Z', 'd', 'a', 'B']\n"
          ]
        },
        {
          "output_type": "execute_result",
          "data": {
            "text/plain": [
              "0"
            ]
          },
          "metadata": {},
          "execution_count": 25
        }
      ]
    },
    {
      "cell_type": "code",
      "source": [
        "#Classement des individus de la population par ordre décroissant d'aptitude\n",
        "#Ce classement inverse est réalisé à l'aide d'une fonction lambda\n",
        "#Le résultat est un tableau dont la première colonne contient l'individu et la seconde son aptitude.\n",
        "def classementIndividus(population,codeSecret):\n",
        "    classement_individus = []\n",
        "    for individu in population:\n",
        "        classement_individus.append((individu,calculAptitude(individu,codeSecret)))\n",
        "    return sorted(classement_individus, key=lambda x: x[1], reverse=True)"
      ],
      "metadata": {
        "id": "PtiZPdk0F1Ub"
      },
      "execution_count": 26,
      "outputs": []
    },
    {
      "cell_type": "code",
      "source": [
        "classement = classementIndividus(population,\"test\")\n",
        "for individu in classement:\n",
        "    print(individu)"
      ],
      "metadata": {
        "colab": {
          "base_uri": "https://localhost:8080/"
        },
        "id": "Xa-MGBZWF4A4",
        "outputId": "2e9bbfd7-a8cd-4090-9ee2-7f4b7388c9e2"
      },
      "execution_count": 27,
      "outputs": [
        {
          "output_type": "stream",
          "name": "stdout",
          "text": [
            "(['Z', 'd', 'a', 'B'], 0)\n",
            "(['N', 'q', 'w', 'X'], 0)\n",
            "(['8', 'F', 'O', 'X'], 0)\n",
            "(['V', '0', 'l', 'N'], 0)\n",
            "(['U', 'L', 'j', 'i'], 0)\n"
          ]
        }
      ]
    },
    {
      "cell_type": "markdown",
      "source": [
        "***Manipulations génétiques***\n",
        "Nous voici présent à la fonction qui va permettre de :\n",
        "\n",
        "* Selectionner les individus (ceux ayant une meilleure aptitude)\n",
        "* Croiser les individus de forte aptitude permettant de créer des enfants\n",
        "* Muter génétiquement les enfants comme cela se produit dans la nature\n",
        "\n",
        "\n",
        "\n",
        "\n"
      ],
      "metadata": {
        "id": "46akc-0PRF-n"
      }
    },
    {
      "cell_type": "code",
      "source": [
        "def generationFuture(population,pourcentageElitisme,tauxMutation,codeSecret):\n",
        "    \n",
        "    #1: On classe les individus de la population passée en paramètre\n",
        "    classement_individus = classementIndividus(population,codeSecret)\n",
        "    \n",
        "   \n",
        "    #2: On crée 2 tableaux. L'un contenant l'individu gagnant, l'autre un tableau contenant les individus classés mais \n",
        "    #sans leur valeur d'aptitude\n",
        "    individu_gagnant = []\n",
        "    individus_classes = []\n",
        "    \n",
        "    #3: Parcours des individus\n",
        "    for individu, aptitude in classement_individus:\n",
        "    \n",
        "        #On stock l'individu sans son aptitude dans un nouveau tableau\n",
        "        individus_classes.append(individu)\n",
        "    \n",
        "        #Si l'aptitude est égale à la longueur du mot secret à trouver, cela signifie que nous avons trouvé la solution.\n",
        "        if aptitude==len(codeSecret):\n",
        "            individu_gagnant.append(individu)\n",
        "      \n",
        "        if individu_gagnant:\n",
        "            return population,individu_gagnant\n",
        "    \n",
        "    \n",
        "    \n",
        "    \n",
        "    #4: Selection des meilleurs individus (elites) devenant alors parents\n",
        "    #Leur nombre est fonction du pourcentage d'élites passé en paramètre\n",
        "    nombreElites = int(len(population)*pourcentageElitisme)\n",
        "    parents = individus_classes[:nombreElites] \n",
        "    \n",
        "\n",
        "    #5: On selectionne d'autres parents pour maintenir la diversité génétique\n",
        "    #Cette selection se fait au hasard\n",
        "    #Si la roulette sort une valeur inférieure à 0.05 alors on ajoute l'individus aux parents\n",
        "    for individu in individus_classes[nombreElites:]:\n",
        "        roulette = random.random()\n",
        "        if roulette < 0.05:\n",
        "            parents.append(individu)\n",
        "    \n",
        "   \n",
        "    #6: Croisement des parents pour créer une nouvelle génération\n",
        "    nombreDeParentsSelectionnes = len(parents)\n",
        "    nombreEnfantsSouhaites = len(population)-nombreDeParentsSelectionnes\n",
        "    \n",
        "    \n",
        "    #Le nombre de gènes du père sera égal à la longueur du code secret divisé par deux\n",
        "    nombreGenesPere = len(codeSecret)//2\n",
        "    \n",
        "    #Le nombre de gènes de la mère sera égal à la longueur du mot - le nombre de gène du père\n",
        "    nombreGenesMere = len(codeSecret)-nombreGenesPere\n",
        "    \n",
        "\n",
        "    #Tant que nous n'avons pas le nombre d'enfants souhaité,\n",
        "    #On choisi 2 parents au hasard\n",
        "    #On extrait les gènes du père en fonction du nombre déterminé précédemment\n",
        "    #On extrait les gènes de la mère en fonction du nombre déterminé précédemment\n",
        "    #On concatène les deux pour obtenir un enfant\n",
        "    enfants = []\n",
        "    while len(enfants) < nombreEnfantsSouhaites:\n",
        "        pere = random.choice(parents)\n",
        "        mere = random.choice(parents)\n",
        "        enfant = pere[:nombreGenesPere] + mere[nombreGenesMere:]\n",
        "        enfants.append(enfant)\n",
        "        \n",
        "    #Mutation génétique de certain enfants\n",
        "    #Cette mutation se fait aussi au hasard\n",
        "    #- Tant sur le choix de l'individu \n",
        "    #- Tant sur le gene à modifier\n",
        "    for enfant in enfants :\n",
        "        if random.random() < tauxMutation:\n",
        "            indexGene = int(random.random()*(len(codeSecret)))\n",
        "            enfant[indexGene] = generationGene()\n",
        "        \n",
        "    #Ajout des enfants à la liste des parents pour créer la population\n",
        "    parents.extend(enfants)\n",
        "    \n",
        "    \n",
        "    return parents,individu_gagnant"
      ],
      "metadata": {
        "id": "oAvHGk26F6jz"
      },
      "execution_count": 28,
      "outputs": []
    },
    {
      "cell_type": "markdown",
      "source": [
        "## ***`Recherche de la solution`***:\n",
        "\n"
      ],
      "metadata": {
        "id": "tyiHaerjQd6x"
      }
    },
    {
      "cell_type": "code",
      "source": [
        "CODE = \"JoyeuAnnVe2023\"\n",
        "NOMBRE_INDIVIDUS = 100\n",
        "POURCENTAGE_ELITE = 0.20 \n",
        "TAUX_MUTATION =0.1\n",
        "\n",
        "#On définit un maximum de générations pour éviter une boucle infinie dans le cas où aucune solution n'est trouvée\n",
        "MAXIMUM_GENERATIONS = 10000\n",
        "\n",
        "#Generation d'une population initiale\n",
        "population = generationPopulation(NOMBRE_INDIVIDUS,CODE)\n",
        "\n",
        "#Execution de l'algorithme génétique\n",
        "i=0\n",
        "individu_gagnant = None\n",
        "\n",
        "while not individu_gagnant and i<MAXIMUM_GENERATIONS:\n",
        "    population, individu_gagnant = generationFuture(population,POURCENTAGE_ELITE,TAUX_MUTATION,CODE)\n",
        "    i = i+1\n",
        "    \n",
        "if individu_gagnant:\n",
        "    print(\"Solution trouvée :\"+str(individu_gagnant)+\" Nb générations = \"+str(i))\n",
        "else:\n",
        "    print(\"Pas de solution trouvée...\")"
      ],
      "metadata": {
        "colab": {
          "base_uri": "https://localhost:8080/"
        },
        "id": "Wbymui-EGBUj",
        "outputId": "7971010b-787f-4cc4-a7d3-f94613a088b7"
      },
      "execution_count": 29,
      "outputs": [
        {
          "output_type": "stream",
          "name": "stdout",
          "text": [
            "Solution trouvée :[['J', 'o', 'y', 'e', 'u', 'A', 'n', 'n', 'V', 'e', '2', '0', '2', '3']] Nb générations = 168\n"
          ]
        }
      ]
    }
  ]
}